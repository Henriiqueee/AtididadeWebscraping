{
 "cells": [
  {
   "cell_type": "code",
   "execution_count": 7,
   "metadata": {},
   "outputs": [
    {
     "name": "stdout",
     "output_type": "stream",
     "text": [
      "                                                 marca        preco  \\\n",
      "0    Notebook Gamer Acer Nitro V15 ANV15-51-7837 In...  R$ 4.999,00   \n",
      "1    Monitor Gamer KBM! Gaming MG800 34\" QHD, Ultra...  R$ 1.599,90   \n",
      "2    Monitor Gamer Asus ROG Swift 49' LED, Ultra Wi...  R$ 6.499,99   \n",
      "3    Monitor Profissional Philips 49\" 2K QHD, Ultra...  R$ 7.499,99   \n",
      "4    Monitor Gamer Asus TUF 31.5 LED 2K QHD, 165Hz,...  R$ 1.699,99   \n",
      "..                                                 ...          ...   \n",
      "183  Monitor Gamer Samsung 22\" FHD,100 Hz, HDMI, VG...    R$ 603,57   \n",
      "184  Monitor Samsung 32\" FHD,75 Hz,Freesync, HDMI, ...  R$ 1.059,27   \n",
      "185  Monitor Gamer Samsung 27\" FHD,100 Hz, HDMI, VG...    R$ 705,87   \n",
      "186  Notebook Lenovo V14 G4 Amd Ryzen 3 7320u 8GB 2...  R$ 2.111,12   \n",
      "187  Notebook Asus Tuf Gaming A15, AMD Ryzen 7-7435...  R$ 4.689,99   \n",
      "\n",
      "    cor_principal  possui_RAM  quantidade_RAM  \n",
      "0           Preto        True             8.0  \n",
      "1           Preto       False             NaN  \n",
      "2    Desconhecida       False             NaN  \n",
      "3           Preto       False             NaN  \n",
      "4    Desconhecida       False             NaN  \n",
      "..            ...         ...             ...  \n",
      "183         Preto       False             NaN  \n",
      "184         Preto       False             NaN  \n",
      "185         Preto       False             NaN  \n",
      "186         Preto       False             NaN  \n",
      "187  Desconhecida        True             8.0  \n",
      "\n",
      "[188 rows x 5 columns]\n"
     ]
    }
   ],
   "source": [
    "import pandas as pd\n",
    "\n",
    "df = pd.read_excel('computadores.xlsx')\n",
    "print(df)"
   ]
  },
  {
   "cell_type": "code",
   "execution_count": 8,
   "metadata": {},
   "outputs": [
    {
     "name": "stdout",
     "output_type": "stream",
     "text": [
      "     marca  preco  cor_principal  possui_RAM  quantidade_RAM\n",
      "0    False  False          False       False           False\n",
      "1    False  False          False       False            True\n",
      "2    False  False          False       False            True\n",
      "3    False  False          False       False            True\n",
      "4    False  False          False       False            True\n",
      "..     ...    ...            ...         ...             ...\n",
      "183  False  False          False       False            True\n",
      "184  False  False          False       False            True\n",
      "185  False  False          False       False            True\n",
      "186  False  False          False       False            True\n",
      "187  False  False          False       False           False\n",
      "\n",
      "[188 rows x 5 columns]\n"
     ]
    }
   ],
   "source": [
    "# Verificar se existem dados faltando\n",
    "print(df.isnull())"
   ]
  },
  {
   "cell_type": "code",
   "execution_count": 9,
   "metadata": {},
   "outputs": [],
   "source": [
    "df['marca'] = df['marca'].replace(r'\\d+', '', regex=True).str.strip().str.title"
   ]
  }
 ],
 "metadata": {
  "kernelspec": {
   "display_name": "Python 3",
   "language": "python",
   "name": "python3"
  },
  "language_info": {
   "codemirror_mode": {
    "name": "ipython",
    "version": 3
   },
   "file_extension": ".py",
   "mimetype": "text/x-python",
   "name": "python",
   "nbconvert_exporter": "python",
   "pygments_lexer": "ipython3",
   "version": "3.12.1"
  }
 },
 "nbformat": 4,
 "nbformat_minor": 2
}
