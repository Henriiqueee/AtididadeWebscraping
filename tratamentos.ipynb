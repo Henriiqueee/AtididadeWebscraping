{
 "cells": [
  {
   "cell_type": "code",
   "execution_count": null,
   "metadata": {},
   "outputs": [],
   "source": [
    "import pandas as pd \n",
    "\n",
    "df = pd.read_excel(\"computadores.xlsx\")\n",
    "display(df)"
   ]
  },
  {
   "cell_type": "code",
   "execution_count": null,
   "metadata": {},
   "outputs": [],
   "source": [
    "cores = [\n",
    "\"amarelo\", \"amarela\", \"azul\", \"branco\", \"branca\", \"cinza\", \"creme\", \"dourado\", \"laranja\", \"marrom\", \"preto\", \n",
    "\"rosa\",\"roxo\", \"verde\", \"vermelho\", \"bege\",\"graphite\", \"geada\", \"uva\", \"grey\", \"yellow\", \"blue\", \"silver\",\n",
    "\"red\", \"black\",\"off white\",\"white\", \"green\", \"purple\",\"orange\", \"white\", \"pink\",\"fuchsia\", \n",
    "\"orchid\",\"aqua\",\"azure\",\"beige\",\"darkred\",\"coral\"\n",
    "]\n",
    "\n",
    "def extrair_cor(texto):\n",
    "    texto = texto.lower()\n",
    "    for cor in cores:\n",
    "        if cor in texto:\n",
    "            return cor\n",
    "    return \"Desconhecida\"\n",
    "\n",
    "df[\"cor_principal\"] = df[\"marca\"].apply(extrair_cor)\n",
    "display(df[[\"marca\", \"cor_principal\"]])"
   ]
  },
  {
   "cell_type": "code",
   "execution_count": null,
   "metadata": {},
   "outputs": [],
   "source": [
    "contagem = df['cor_principal'].str.contains('Desconhecida', case=False, na=False).sum() \n",
    "\n",
    "print(f'A palavra \"desconhecida\" aparece {contagem} vezes na coluna.')"
   ]
  },
  {
   "cell_type": "code",
   "execution_count": null,
   "metadata": {},
   "outputs": [],
   "source": [
    "df['cor_principal'] = df['cor_principal'].str.title()\n",
    "display(df)"
   ]
  },
  {
   "cell_type": "code",
   "execution_count": null,
   "metadata": {},
   "outputs": [],
   "source": [
    "df_filtrado = df[df['cor_principal'].str.contains('desconhecida', case=False, na=False)]\n",
    "\n",
    "display(df_filtrado)"
   ]
  },
  {
   "cell_type": "code",
   "execution_count": null,
   "metadata": {},
   "outputs": [],
   "source": [
    "df['possui_RAM'] = df['marca'].str.contains('RAM', case=False, na=False)\n",
    "\n",
    "display(df)"
   ]
  },
  {
   "cell_type": "code",
   "execution_count": null,
   "metadata": {},
   "outputs": [],
   "source": [
    "import re"
   ]
  },
  {
   "cell_type": "code",
   "execution_count": null,
   "metadata": {},
   "outputs": [],
   "source": [
    "df['quantidade_RAM'] = df['marca'].str.extract(r'(\\d+)\\s*GB\\s*RAM', flags=re.IGNORECASE) # Todos anúncios que possuem a palavra RAM faz uma captura \n",
    "\n",
    "display(df)"
   ]
  },
  {
   "cell_type": "code",
   "execution_count": null,
   "metadata": {},
   "outputs": [],
   "source": [
    "print(df.columns.tolist()) # Mostra o nome de todas as colunas que tem no excel \n"
   ]
  },
  {
   "cell_type": "code",
   "execution_count": null,
   "metadata": {},
   "outputs": [],
   "source": [
    "df.to_excel('computadores.xlsx', index=False) # Salva tudo no arquivo do excel \n",
    "\n",
    "display(df)"
   ]
  },
  {
   "cell_type": "code",
   "execution_count": 12,
   "metadata": {},
   "outputs": [
    {
     "data": {
      "text/html": [
       "<div>\n",
       "<style scoped>\n",
       "    .dataframe tbody tr th:only-of-type {\n",
       "        vertical-align: middle;\n",
       "    }\n",
       "\n",
       "    .dataframe tbody tr th {\n",
       "        vertical-align: top;\n",
       "    }\n",
       "\n",
       "    .dataframe thead th {\n",
       "        text-align: right;\n",
       "    }\n",
       "</style>\n",
       "<table border=\"1\" class=\"dataframe\">\n",
       "  <thead>\n",
       "    <tr style=\"text-align: right;\">\n",
       "      <th></th>\n",
       "      <th>marca</th>\n",
       "      <th>preco</th>\n",
       "      <th>cor_principal</th>\n",
       "      <th>possui_RAM</th>\n",
       "      <th>quantidade_RAM</th>\n",
       "    </tr>\n",
       "  </thead>\n",
       "  <tbody>\n",
       "    <tr>\n",
       "      <th>0</th>\n",
       "      <td>Notebook Gamer Acer Nitro V15 ANV15-51-7837 In...</td>\n",
       "      <td>R$ 4.999,00</td>\n",
       "      <td>Preto</td>\n",
       "      <td>True</td>\n",
       "      <td>8</td>\n",
       "    </tr>\n",
       "    <tr>\n",
       "      <th>1</th>\n",
       "      <td>Monitor Gamer KBM! Gaming MG800 34\" QHD, Ultra...</td>\n",
       "      <td>R$ 1.599,90</td>\n",
       "      <td>Preto</td>\n",
       "      <td>False</td>\n",
       "      <td>Não possui</td>\n",
       "    </tr>\n",
       "    <tr>\n",
       "      <th>2</th>\n",
       "      <td>Monitor Gamer Asus ROG Swift 49' LED, Ultra Wi...</td>\n",
       "      <td>R$ 6.499,99</td>\n",
       "      <td>Desconhecida</td>\n",
       "      <td>False</td>\n",
       "      <td>Não possui</td>\n",
       "    </tr>\n",
       "    <tr>\n",
       "      <th>3</th>\n",
       "      <td>Monitor Profissional Philips 49\" 2K QHD, Ultra...</td>\n",
       "      <td>R$ 7.499,99</td>\n",
       "      <td>Preto</td>\n",
       "      <td>False</td>\n",
       "      <td>Não possui</td>\n",
       "    </tr>\n",
       "    <tr>\n",
       "      <th>4</th>\n",
       "      <td>Monitor Gamer Asus TUF 31.5 LED 2K QHD, 165Hz,...</td>\n",
       "      <td>R$ 1.699,99</td>\n",
       "      <td>Desconhecida</td>\n",
       "      <td>False</td>\n",
       "      <td>Não possui</td>\n",
       "    </tr>\n",
       "    <tr>\n",
       "      <th>...</th>\n",
       "      <td>...</td>\n",
       "      <td>...</td>\n",
       "      <td>...</td>\n",
       "      <td>...</td>\n",
       "      <td>...</td>\n",
       "    </tr>\n",
       "    <tr>\n",
       "      <th>183</th>\n",
       "      <td>Monitor Gamer Samsung 22\" FHD,100 Hz, HDMI, VG...</td>\n",
       "      <td>R$ 603,57</td>\n",
       "      <td>Preto</td>\n",
       "      <td>False</td>\n",
       "      <td>Não possui</td>\n",
       "    </tr>\n",
       "    <tr>\n",
       "      <th>184</th>\n",
       "      <td>Monitor Samsung 32\" FHD,75 Hz,Freesync, HDMI, ...</td>\n",
       "      <td>R$ 1.059,27</td>\n",
       "      <td>Preto</td>\n",
       "      <td>False</td>\n",
       "      <td>Não possui</td>\n",
       "    </tr>\n",
       "    <tr>\n",
       "      <th>185</th>\n",
       "      <td>Monitor Gamer Samsung 27\" FHD,100 Hz, HDMI, VG...</td>\n",
       "      <td>R$ 705,87</td>\n",
       "      <td>Preto</td>\n",
       "      <td>False</td>\n",
       "      <td>Não possui</td>\n",
       "    </tr>\n",
       "    <tr>\n",
       "      <th>186</th>\n",
       "      <td>Notebook Lenovo V14 G4 Amd Ryzen 3 7320u 8GB 2...</td>\n",
       "      <td>R$ 2.111,12</td>\n",
       "      <td>Preto</td>\n",
       "      <td>False</td>\n",
       "      <td>Não possui</td>\n",
       "    </tr>\n",
       "    <tr>\n",
       "      <th>187</th>\n",
       "      <td>Notebook Asus Tuf Gaming A15, AMD Ryzen 7-7435...</td>\n",
       "      <td>R$ 4.689,99</td>\n",
       "      <td>Desconhecida</td>\n",
       "      <td>True</td>\n",
       "      <td>8</td>\n",
       "    </tr>\n",
       "  </tbody>\n",
       "</table>\n",
       "<p>188 rows × 5 columns</p>\n",
       "</div>"
      ],
      "text/plain": [
       "                                                 marca        preco  \\\n",
       "0    Notebook Gamer Acer Nitro V15 ANV15-51-7837 In...  R$ 4.999,00   \n",
       "1    Monitor Gamer KBM! Gaming MG800 34\" QHD, Ultra...  R$ 1.599,90   \n",
       "2    Monitor Gamer Asus ROG Swift 49' LED, Ultra Wi...  R$ 6.499,99   \n",
       "3    Monitor Profissional Philips 49\" 2K QHD, Ultra...  R$ 7.499,99   \n",
       "4    Monitor Gamer Asus TUF 31.5 LED 2K QHD, 165Hz,...  R$ 1.699,99   \n",
       "..                                                 ...          ...   \n",
       "183  Monitor Gamer Samsung 22\" FHD,100 Hz, HDMI, VG...    R$ 603,57   \n",
       "184  Monitor Samsung 32\" FHD,75 Hz,Freesync, HDMI, ...  R$ 1.059,27   \n",
       "185  Monitor Gamer Samsung 27\" FHD,100 Hz, HDMI, VG...    R$ 705,87   \n",
       "186  Notebook Lenovo V14 G4 Amd Ryzen 3 7320u 8GB 2...  R$ 2.111,12   \n",
       "187  Notebook Asus Tuf Gaming A15, AMD Ryzen 7-7435...  R$ 4.689,99   \n",
       "\n",
       "    cor_principal  possui_RAM quantidade_RAM  \n",
       "0           Preto        True              8  \n",
       "1           Preto       False     Não possui  \n",
       "2    Desconhecida       False     Não possui  \n",
       "3           Preto       False     Não possui  \n",
       "4    Desconhecida       False     Não possui  \n",
       "..            ...         ...            ...  \n",
       "183         Preto       False     Não possui  \n",
       "184         Preto       False     Não possui  \n",
       "185         Preto       False     Não possui  \n",
       "186         Preto       False     Não possui  \n",
       "187  Desconhecida        True              8  \n",
       "\n",
       "[188 rows x 5 columns]"
      ]
     },
     "metadata": {},
     "output_type": "display_data"
    }
   ],
   "source": [
    "df['quantidade_RAM'] = df['quantidade_RAM'].fillna('Não possui')\n",
    "# Na coluna possui_RAM os espaços em branco passa a ficar como \"Não possui\"\n",
    "display(df)"
   ]
  }
 ],
 "metadata": {
  "kernelspec": {
   "display_name": "Python 3",
   "language": "python",
   "name": "python3"
  },
  "language_info": {
   "codemirror_mode": {
    "name": "ipython",
    "version": 3
   },
   "file_extension": ".py",
   "mimetype": "text/x-python",
   "name": "python",
   "nbconvert_exporter": "python",
   "pygments_lexer": "ipython3",
   "version": "3.12.1"
  }
 },
 "nbformat": 4,
 "nbformat_minor": 2
}
